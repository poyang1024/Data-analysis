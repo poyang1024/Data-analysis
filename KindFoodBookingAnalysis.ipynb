{
 "cells": [
  {
   "cell_type": "code",
   "execution_count": 15,
   "metadata": {},
   "outputs": [
    {
     "name": "stdout",
     "output_type": "stream",
     "text": [
      "使用前請先詳閱Readme文件中的使用步驟......\n",
      "\n",
      "請耐心等候，程式運行完後會自動關閉，於output資料夾匯出所需檔案......\n",
      "\n",
      "有出現任何錯誤麻煩截圖告知，感謝您的使用......\n",
      "\n",
      "Excel檔案中的行列標頭及排序請勿做更動，如有需進行更動，請聯絡工程師進行程式系統改版......\n",
      "\n",
      "程式運作中，請勿開啟相關Excel檔案，否則會導致權限問題使程式無法正常運行......\n"
     ]
    }
   ],
   "source": [
    "print('使用前請先詳閱Readme文件中的使用步驟......')\n",
    "print()\n",
    "print('請耐心等候，程式運行完後會自動關閉，於output資料夾匯出所需檔案......')\n",
    "print()\n",
    "print('有出現任何錯誤麻煩截圖告知，感謝您的使用......')\n",
    "print()\n",
    "print('Excel檔案中的行列標頭及排序請勿做更動，如有需進行更動，請聯絡工程師進行程式系統改版......')\n",
    "print()\n",
    "print('程式運作中，請勿開啟相關Excel檔案，否則會導致權限問題使程式無法正常運行......')"
   ]
  },
  {
   "cell_type": "code",
   "execution_count": 16,
   "metadata": {},
   "outputs": [],
   "source": [
    "from openpyxl import load_workbook\n",
    "from openpyxl.utils import get_column_letter \n",
    "def reset_col(filename):\n",
    "\twb=load_workbook(filename)\n",
    "\tfor sheet in wb.sheetnames:\n",
    "\t\tws=wb[sheet]\n",
    "\t\tdf=pd.read_excel(filename,sheet).fillna('-')\n",
    "\t\tdf.loc[len(df)]=list(df.columns)\t\t\t\t\t\t#把標题行附加到最后一行\n",
    "\t\tfor col in df.columns:\t\t\t\t\n",
    "\t\t\tindex=list(df.columns).index(col)\t\t\t\t\t#列序號\n",
    "\t\t\tletter=get_column_letter(index+1)\t\t\t\t\t#列字母\n",
    "\t\t\tcollen=df[col].apply(lambda x:len(str(x).encode())).max()\t#獲取這一列長度的最大值\n",
    "\t\t\tws.column_dimensions[letter].width=collen*0.3+10\n",
    "\n",
    "\twb.save(filename)"
   ]
  },
  {
   "cell_type": "code",
   "execution_count": 17,
   "metadata": {},
   "outputs": [],
   "source": [
    "def percentage(part, whole):\n",
    "  percentage = 100 * float(part)/float(whole)\n",
    "  percentageintwosite = round(percentage,2)\n",
    "  return str(percentageintwosite) + \"%\""
   ]
  },
  {
   "cell_type": "code",
   "execution_count": 18,
   "metadata": {},
   "outputs": [
    {
     "name": "stderr",
     "output_type": "stream",
     "text": [
      "D:\\anaconda\\lib\\site-packages\\tqdm\\std.py:697: FutureWarning: The Panel class is removed from pandas. Accessing it from the top-level namespace will also be removed in the next version\n",
      "  from pandas import Panel\n",
      "100%|████████████████████████████████████████████████████████████████████████████████| 28/28 [00:00<00:00, 4648.72it/s]\n"
     ]
    }
   ],
   "source": [
    "from tqdm import tqdm\n",
    "import numpy as np\n",
    "import pandas as pd\n",
    "import openpyxl\n",
    "from openpyxl import load_workbook\n",
    "from openpyxl.utils import get_column_letter \n",
    "\n",
    "KindFoodBooking = pd.read_excel(\"input/input.xlsx\",sheet_name=\"訂單明細\").fillna('')\n",
    "df = KindFoodBooking\n",
    "KindFoodBookingNOKOL = df.loc[KindFoodBooking['會員標籤'].str.contains('KOL') == False]\n",
    "dfN = KindFoodBookingNOKOL\n",
    "\n",
    "dftotal = dfN['商品售價']*dfN['數量']\n",
    "dftotal.name = '加總 - 商品售價'\n",
    "\n",
    "dfN = pd.concat([dfN,dftotal],axis='columns')\n",
    "\n",
    "KindFoodBookingHub = dfN.groupby(['SKU']).agg({'加總 - 商品售價':['sum']})\n",
    "\n",
    "KindFoodBookingHub.name = 'Hub'                            \n",
    "KindFoodBookingsum = KindFoodBookingHub.sum()\n",
    "\n",
    "KindFoodBookingsum.name = '總和'\n",
    "\n",
    "KindFoodBookingHub = KindFoodBookingHub.append(KindFoodBookingsum)\n",
    "\n",
    "\n",
    "with pd.ExcelWriter(\"output/KindFoodBookingAnalysis.xlsx\") as writer:\n",
    "  KindFoodBookingNOKOL.to_excel(writer,sheet_name=\"訂單明細\",index=None)\n",
    "  KindFoodBookingHub.to_excel(writer,sheet_name=\"數據分析\")\n",
    "\n",
    "tqdm.pandas()\n",
    "df.progress_apply(lambda x: x)\n",
    "reset_col(\"output/KindFoodBookingAnalysis.xlsx\")\n"
   ]
  },
  {
   "cell_type": "code",
   "execution_count": 19,
   "metadata": {},
   "outputs": [],
   "source": [
    "KindFoodBookingcoupon = pd.read_excel(\"input/input.xlsx\",sheet_name=\"訂單明細\")\n",
    "dfcoupon = KindFoodBookingcoupon\n",
    "KindFoodBookingNOKOLcoupon = dfcoupon.loc[KindFoodBooking['會員標籤'].str.contains('KOL') == False]\n",
    "dfNcoupon = KindFoodBookingNOKOLcoupon\n",
    "\n",
    "dfNcoupon = dfNcoupon.drop_duplicates('訂單編號','first')\n",
    "\n",
    "\n",
    "KindFoodBookingHubcoupon = dfNcoupon['優惠券名稱'].value_counts()\n",
    "\n",
    "KindFoodBookingHubcoupon = KindFoodBookingHubcoupon.rename_axis('列標籤').reset_index(name='計數 - 優惠券名稱')\n",
    "\n",
    "KindFoodBookingHubcoupon.reset_index(inplace=True, drop=True)\n",
    "\n",
    "KindFoodBookingsumcoupon = KindFoodBookingHubcoupon['計數 - 優惠券名稱'].sum()\n",
    "\n",
    "dfcoupon = pd.DataFrame([['總和',KindFoodBookingsumcoupon]],columns=['列標籤','計數 - 優惠券名稱'])\n",
    "\n",
    "KindFoodBookingHubcoupon = KindFoodBookingHubcoupon.append(dfcoupon,ignore_index=True)\n",
    "\n",
    "KindFoodBookingHubcoupon = KindFoodBookingHubcoupon.sort_values(by=['計數 - 優惠券名稱'],ascending = False)"
   ]
  },
  {
   "cell_type": "code",
   "execution_count": 20,
   "metadata": {},
   "outputs": [
    {
     "name": "stderr",
     "output_type": "stream",
     "text": [
      "<ipython-input-20-35757688d984>:9: SettingWithCopyWarning: \n",
      "A value is trying to be set on a copy of a slice from a DataFrame.\n",
      "Try using .loc[row_indexer,col_indexer] = value instead\n",
      "\n",
      "See the caveats in the documentation: https://pandas.pydata.org/pandas-docs/stable/user_guide/indexing.html#returning-a-view-versus-a-copy\n",
      "  dfbonus['紅利折抵'] = dfbonus['紅利折抵'].astype(str)\n"
     ]
    }
   ],
   "source": [
    "dfbonus = KindFoodBookingNOKOLcoupon\n",
    "dfbonus = dfbonus.drop_duplicates('訂單編號','first')\n",
    "\n",
    "KindFoodBookingEarnbonus = dfbonus['可獲得紅利'].sum()\n",
    "KindFoodBookingUsebonus = dfbonus['紅利折抵'].sum()\n",
    "KindFoodBookingnumcount = dfbonus['訂單編號'].value_counts()\n",
    "\n",
    "\n",
    "dfbonus['紅利折抵'] = dfbonus['紅利折抵'].astype(str)\n",
    "\n",
    "KindFoodBookingnumcountwithoutzero = dfbonus.loc[dfbonus['紅利折抵'].str.find('0') == False]\n",
    "dfnumcountwithoutzero = KindFoodBookingnumcountwithoutzero['訂單編號'].value_counts()\n",
    "\n",
    "dfnumcountwithoutzeroTRUE = len(KindFoodBookingnumcount.index) - len(dfnumcountwithoutzero.index)\n",
    "\n",
    "dfdividend = pd.DataFrame([['總發放紅利',KindFoodBookingEarnbonus],\n",
    "              ['紅利折抵',KindFoodBookingUsebonus],\n",
    "              ['紅利使用百分比',percentage(KindFoodBookingUsebonus,KindFoodBookingEarnbonus)],\n",
    "              ['總訂單數量',len(KindFoodBookingnumcount.index)],\n",
    "              ['使用紅利訂單數量',dfnumcountwithoutzeroTRUE],\n",
    "              ['回頭客比例',percentage(dfnumcountwithoutzeroTRUE,len(KindFoodBookingnumcount.index))]],columns=['Title','數值'])"
   ]
  },
  {
   "cell_type": "code",
   "execution_count": 21,
   "metadata": {},
   "outputs": [],
   "source": [
    "dftrans = KindFoodBookingNOKOL\n",
    "dftrans = dftrans.drop_duplicates('訂單編號','first')\n",
    "\n",
    "KindFoodBookingtransHub = dftrans.groupby(['出貨方式'])\n",
    "KindFoodBookingtransHub = KindFoodBookingtransHub.size().reset_index(name='計數 - 出貨方式')\n",
    "\n",
    "KindFoodBookingtransHub.name = 'Hub'                            \n",
    "KindFoodBookingtranssum = KindFoodBookingtransHub.sum()\n",
    "\n",
    "KindFoodBookingtranssum.name = '總和'\n",
    "\n",
    "KindFoodBookingtransHub = KindFoodBookingtransHub.append(KindFoodBookingtranssum)\n",
    "\n",
    "KindFoodBookingtransHub = KindFoodBookingtransHub.sort_values(by=['計數 - 出貨方式'],ascending = False)\n",
    "KindFoodBookingtransHub.reset_index(inplace=True, drop=True)\n",
    "\n",
    "KindFoodBookingtransHub.loc[0,'出貨方式'] = '總和'\n",
    "KindFoodBookingtransHub[\"物流方式佔比\"] = ''"
   ]
  },
  {
   "cell_type": "code",
   "execution_count": 22,
   "metadata": {},
   "outputs": [],
   "source": [
    "dfknow = KindFoodBookingNOKOL\n",
    "dfknow = dfknow.drop_duplicates('訂單編號','first')\n",
    "\n",
    "KindFoodBookingknowHub = dfknow.groupby(['額外資訊'])\n",
    "\n",
    "KindFoodBookingknowHub = KindFoodBookingknowHub.size().reset_index(name='計數')\n",
    "\n",
    "KindFoodBookingknowHub = KindFoodBookingknowHub.sort_values(by=['計數'],ascending = False)\n",
    "\n",
    "KindFoodBookingknowHub.reset_index(inplace=True, drop=True)\n",
    "\n",
    "KindFoodBookingknowledgeHub = KindFoodBookingknowHub['額外資訊'].str.replace('如何知道康福先生的呢？: ', '')\n",
    "KindFoodBookingknowHub = KindFoodBookingknowHub.rename(columns = {'額外資訊':'刪除'})\n",
    "KindFoodBookingknowHub = pd.concat([KindFoodBookingknowledgeHub , KindFoodBookingknowHub] , axis = 1)\n",
    "KindFoodBookingknowHub = KindFoodBookingknowHub.drop(columns={'刪除'})\n",
    "KindFoodBookingknowHub = KindFoodBookingknowHub.drop([0])\n",
    "KindFoodBookingknowHub = KindFoodBookingknowHub.rename(columns = {'額外資訊':'如何知道康福的呢?'})"
   ]
  },
  {
   "cell_type": "code",
   "execution_count": 23,
   "metadata": {},
   "outputs": [
    {
     "name": "stderr",
     "output_type": "stream",
     "text": [
      "D:\\anaconda\\lib\\site-packages\\tqdm\\std.py:697: FutureWarning: The Panel class is removed from pandas. Accessing it from the top-level namespace will also be removed in the next version\n",
      "  from pandas import Panel\n",
      "100%|████████████████████████████████████████████████████████████████████████████████| 28/28 [00:00<00:00, 4666.63it/s]\n"
     ]
    }
   ],
   "source": [
    "KindFoodBookingcount = pd.read_excel(\"output/KindFoodBookingAnalysis.xlsx\",sheet_name=\"數據分析\")\n",
    "dfcount = KindFoodBookingcount\n",
    "\n",
    "dfcount = dfcount.drop([0,1])\n",
    "\n",
    "dfcount = dfcount.rename(columns={\"Unnamed: 0\":\"列標籤\"})\n",
    "dfcount[\"商品營業額佔比\"] = ''\n",
    "dfcount = dfcount.sort_values(by=['加總 - 商品售價'],ascending = False)\n",
    "dfcount.reset_index(inplace=True, drop=True)\n",
    "\n",
    "dfstoreindex = dfcount\n",
    "\n",
    "dfnew = dfcount[\"列標籤\"].str.slice(0,2)\n",
    "dfnew.name = '標籤'\n",
    "\n",
    "\n",
    "dfcount = dfcount.merge(dfnew ,how='inner', left_index=True, right_index=True)\n",
    "dfcount = dfcount.drop(columns={'列標籤'})\n",
    "dfcount = dfcount.rename(columns = {'標籤':'列標籤'})\n",
    "dfcount = dfcount.reindex(columns = dfstoreindex.columns)\n",
    "\n",
    "KindFoodBookingcountHub = dfcount.groupby(['列標籤']).agg({'加總 - 商品售價':['sum']})\n",
    "\n",
    "KindFoodBookingcountHub.name = 'Hub'       \n",
    "\n",
    "with pd.ExcelWriter(\"output/KindFoodBookingAnalysis.xlsx\") as writer:\n",
    "  KindFoodBookingNOKOL.to_excel(writer,sheet_name=\"訂單明細\",index=None)\n",
    "  KindFoodBookingcountHub.to_excel(writer,sheet_name=\"分類數據分析\")\n",
    "\n",
    "tqdm.pandas()\n",
    "df.progress_apply(lambda x: x)\n",
    "reset_col(\"output/KindFoodBookingAnalysis.xlsx\")"
   ]
  },
  {
   "cell_type": "code",
   "execution_count": 24,
   "metadata": {},
   "outputs": [
    {
     "name": "stderr",
     "output_type": "stream",
     "text": [
      "100%|████████████████████████████████████████████████████████████████████████████████| 28/28 [00:00<00:00, 4671.27it/s]\n"
     ]
    }
   ],
   "source": [
    "KindFoodBookingcountall = pd.read_excel(\"output/KindFoodBookingAnalysis.xlsx\",sheet_name=\"分類數據分析\")\n",
    "dfcountall = KindFoodBookingcountall\n",
    "\n",
    "dfcountall= dfcountall.drop([0,1])\n",
    "\n",
    "dfcountall = dfcountall.rename(columns={\"Unnamed: 0\":\"列標籤\"})\n",
    "dfcountall[\"商品營業額佔比\"] = ''\n",
    "dfcountall = dfcountall.sort_values(by=['加總 - 商品售價'],ascending = False)\n",
    "dfcountall.reset_index(inplace=True, drop=True)\n",
    "\n",
    "with pd.ExcelWriter(\"output/KindFoodBookingAnalysis.xlsx\") as writer:\n",
    "  KindFoodBookingNOKOL.to_excel(writer,sheet_name=\"訂單明細\",index=None)\n",
    "  dfstoreindex.to_excel(writer,sheet_name=\"數據分析\",index=None)\n",
    "  dfcountall.to_excel(writer,sheet_name=\"分類數據分析\",index=None)\n",
    "  KindFoodBookingHubcoupon.to_excel(writer,sheet_name=\"優惠卷數據分析\",index=None)\n",
    "  dfdividend.to_excel(writer,sheet_name=\"紅利與回頭客數據分析\",index=None)\n",
    "  KindFoodBookingtransHub.to_excel(writer,sheet_name=\"物流方式占比數據分析\",index=None)\n",
    "  KindFoodBookingknowHub.to_excel(writer,sheet_name=\"如何知道康福數據分析\",index=None)\n",
    "tqdm.pandas()\n",
    "df.progress_apply(lambda x: x)\n",
    "reset_col(\"output/KindFoodBookingAnalysis.xlsx\")\n"
   ]
  },
  {
   "cell_type": "code",
   "execution_count": 25,
   "metadata": {},
   "outputs": [
    {
     "name": "stderr",
     "output_type": "stream",
     "text": [
      "100%|████████████████████████████████████████████████████████████████████████████████| 28/28 [00:00<00:00, 4665.15it/s]\n"
     ]
    }
   ],
   "source": [
    "import pandas as pd\n",
    "import openpyxl\n",
    "from openpyxl import load_workbook\n",
    "from openpyxl.styles import colors, Font, Fill, NamedStyle\n",
    "from openpyxl.styles import PatternFill, Border, Side, Alignment\n",
    "\n",
    "workbook = load_workbook(\"output/KindFoodBookingAnalysis.xlsx\")\n",
    "sheet = workbook['數據分析']\n",
    "\n",
    "\n",
    "sheet.insert_rows(1)\n",
    "sheet[\"A1\"] = \"各商品營業額佔比\"\n",
    "sheet[\"A1\"].alignment = Alignment(horizontal=\"center\", vertical=\"center\")\n",
    "\n",
    "for i in range(3,sheet.max_row+1):\n",
    "  sheet[\"C\"+ format(i)] = \"=TEXT(B\"+ format(i) + \"/B\"+ format(3) + \",\\\"0.00%\\\")\"\n",
    "  sheet[\"C\"+ format(i)].alignment = Alignment(horizontal=\"right\", vertical=\"center\")\n",
    "\n",
    "sheet.merge_cells(start_row=1, start_column=1, end_row=1, end_column=3)\n",
    "\n",
    "\n",
    "workbook.save(filename = \"output/KindFoodBookingAnalysis.xlsx\")\n",
    "\n",
    "tqdm.pandas()\n",
    "df.progress_apply(lambda x: x)\n",
    "reset_col(\"output/KindFoodBookingAnalysis.xlsx\")\n"
   ]
  },
  {
   "cell_type": "code",
   "execution_count": 26,
   "metadata": {},
   "outputs": [
    {
     "name": "stderr",
     "output_type": "stream",
     "text": [
      "100%|████████████████████████████████████████████████████████████████████████████████| 28/28 [00:00<00:00, 4686.19it/s]\n"
     ]
    }
   ],
   "source": [
    "sheetcount = workbook['分類數據分析']\n",
    "\n",
    "sheetcount.insert_rows(1)\n",
    "sheetcount[\"A1\"] = \"各商品營業額佔比\"\n",
    "sheetcount[\"A1\"].alignment = Alignment(horizontal=\"center\", vertical=\"center\")\n",
    "\n",
    "for i in range(3,sheetcount.max_row+1):\n",
    "  sheetcount[\"C\"+ format(i)] = \"=TEXT(B\"+ format(i) + \"/B\"+ format(3) + \",\\\"0.00%\\\")\"\n",
    "  sheetcount[\"C\"+ format(i)].alignment = Alignment(horizontal=\"right\", vertical=\"center\")\n",
    "\n",
    "sheetcount.merge_cells(start_row=1, start_column=1, end_row=1, end_column=3)\n",
    "\n",
    "workbook.save(filename = \"output/KindFoodBookingAnalysis.xlsx\")\n",
    "\n",
    "tqdm.pandas()\n",
    "df.progress_apply(lambda x: x)\n",
    "reset_col(\"output/KindFoodBookingAnalysis.xlsx\")\n"
   ]
  },
  {
   "cell_type": "code",
   "execution_count": 27,
   "metadata": {},
   "outputs": [
    {
     "name": "stderr",
     "output_type": "stream",
     "text": [
      "100%|████████████████████████████████████████████████████████████████████████████████| 28/28 [00:00<00:00, 4668.49it/s]\n"
     ]
    }
   ],
   "source": [
    "sheetbonus = workbook['紅利與回頭客數據分析']\n",
    "sheetbonus.insert_rows(1)\n",
    "sheetbonus[\"A1\"] = \"紅利/回頭客分析\"\n",
    "sheetbonus[\"A1\"].alignment = Alignment(horizontal=\"center\", vertical=\"center\")\n",
    "\n",
    "for i in range(3,sheetcount.max_row+1):\n",
    "  sheetbonus[\"B\"+ format(i)].alignment = Alignment(horizontal=\"right\", vertical=\"center\")\n",
    "\n",
    "sheetbonus.merge_cells(start_row=1, start_column=1, end_row=1, end_column=2)\n",
    "\n",
    "workbook.save(filename = \"output/KindFoodBookingAnalysis.xlsx\")\n",
    "\n",
    "tqdm.pandas()\n",
    "df.progress_apply(lambda x: x)\n",
    "reset_col(\"output/KindFoodBookingAnalysis.xlsx\")"
   ]
  },
  {
   "cell_type": "code",
   "execution_count": 28,
   "metadata": {},
   "outputs": [
    {
     "name": "stderr",
     "output_type": "stream",
     "text": [
      "100%|████████████████████████████████████████████████████████████████████████████████| 28/28 [00:00<00:00, 4665.71it/s]\n"
     ]
    }
   ],
   "source": [
    "sheettrans = workbook['物流方式占比數據分析']\n",
    "sheettrans.insert_rows(1)\n",
    "sheettrans[\"A1\"] = \"物流方式佔比\"\n",
    "sheettrans[\"A1\"].alignment = Alignment(horizontal=\"center\", vertical=\"center\")\n",
    "\n",
    "for i in range(3,sheettrans.max_row+1):\n",
    "  sheettrans[\"C\"+ format(i)] = \"=TEXT(B\"+ format(i) + \"/B\"+ format(3) + \",\\\"0.00%\\\")\"\n",
    "  sheettrans[\"C\"+ format(i)].alignment = Alignment(horizontal=\"right\", vertical=\"center\")\n",
    "\n",
    "sheettrans.merge_cells(start_row=1, start_column=1, end_row=1, end_column=3)\n",
    "\n",
    "workbook.save(filename = \"output/KindFoodBookingAnalysis.xlsx\")\n",
    "\n",
    "tqdm.pandas()\n",
    "df.progress_apply(lambda x: x)\n",
    "reset_col(\"output/KindFoodBookingAnalysis.xlsx\")"
   ]
  },
  {
   "cell_type": "code",
   "execution_count": null,
   "metadata": {},
   "outputs": [],
   "source": []
  }
 ],
 "metadata": {
  "kernelspec": {
   "display_name": "Python 3",
   "language": "python",
   "name": "python3"
  },
  "language_info": {
   "codemirror_mode": {
    "name": "ipython",
    "version": 3
   },
   "file_extension": ".py",
   "mimetype": "text/x-python",
   "name": "python",
   "nbconvert_exporter": "python",
   "pygments_lexer": "ipython3",
   "version": "3.8.5"
  }
 },
 "nbformat": 4,
 "nbformat_minor": 4
}
