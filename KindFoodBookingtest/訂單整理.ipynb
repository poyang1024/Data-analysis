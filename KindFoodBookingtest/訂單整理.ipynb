{
 "cells": [
  {
   "cell_type": "code",
   "execution_count": 1,
   "metadata": {},
   "outputs": [
    {
     "name": "stdout",
     "output_type": "stream",
     "text": [
      "使用前請先詳閱Readme文件中的使用步驟......\n",
      "\n",
      "請耐心等候，程式運行完後會自動關閉，於output資料夾匯出所需檔案......\n",
      "\n",
      "有出現任何錯誤麻煩截圖告知，感謝您的使用......\n",
      "\n",
      "input資料夾中的雲端發票開立空白頁請勿移除與使用，程式運行完之匯出檔案都於output資料夾內，請使用output資料夾內中的匯出檔案，謝謝......\n",
      "\n",
      "Excel檔案中的行列標頭及排序請勿做更動，如有需進行更動，請聯絡工程師進行程式系統改版......\n",
      "\n",
      "程式運作中，請勿開啟相關Excel檔案，否則會導致權限問題使程式無法正常運行......\n"
     ]
    }
   ],
   "source": [
    "print('使用前請先詳閱Readme文件中的使用步驟......')\n",
    "print()\n",
    "print('請耐心等候，程式運行完後會自動關閉，於output資料夾匯出所需檔案......')\n",
    "print()\n",
    "print('有出現任何錯誤麻煩截圖告知，感謝您的使用......')\n",
    "print()\n",
    "print('input資料夾中的雲端發票開立空白頁請勿移除與使用，程式運行完之匯出檔案都於output資料夾內，請使用output資料夾內中的匯出檔案，謝謝......')\n",
    "print()\n",
    "print('Excel檔案中的行列標頭及排序請勿做更動，如有需進行更動，請聯絡工程師進行程式系統改版......')\n",
    "print()\n",
    "print('程式運作中，請勿開啟相關Excel檔案，否則會導致權限問題使程式無法正常運行......')"
   ]
  },
  {
   "cell_type": "code",
   "execution_count": 2,
   "metadata": {},
   "outputs": [],
   "source": [
    "from openpyxl import load_workbook\n",
    "from openpyxl.utils import get_column_letter \n",
    "def reset_col(filename):\n",
    "\twb=load_workbook(filename)\n",
    "\tfor sheet in wb.sheetnames:\n",
    "\t\tws=wb[sheet]\n",
    "\t\tdf=pd.read_excel(filename,sheet).fillna('-')\n",
    "\t\tdf.loc[len(df)]=list(df.columns)\t\t\t\t\t\t#把標题行附加到最后一行\n",
    "\t\tfor col in df.columns:\t\t\t\t\n",
    "\t\t\tindex=list(df.columns).index(col)\t\t\t\t\t#列序號\n",
    "\t\t\tletter=get_column_letter(index+1)\t\t\t\t\t#列字母\n",
    "\t\t\tcollen=df[col].apply(lambda x:len(str(x).encode())).max()\t#獲取這一列長度的最大值\n",
    "\t\t\tws.column_dimensions[letter].width=collen*0.3+10\n",
    "\n",
    "\twb.save(filename)"
   ]
  },
  {
   "cell_type": "code",
   "execution_count": 3,
   "metadata": {},
   "outputs": [
    {
     "name": "stderr",
     "output_type": "stream",
     "text": [
      "D:\\anaconda\\lib\\site-packages\\pandas\\core\\indexing.py:1745: SettingWithCopyWarning: \n",
      "A value is trying to be set on a copy of a slice from a DataFrame.\n",
      "Try using .loc[row_indexer,col_indexer] = value instead\n",
      "\n",
      "See the caveats in the documentation: https://pandas.pydata.org/pandas-docs/stable/user_guide/indexing.html#returning-a-view-versus-a-copy\n",
      "  isetter(ilocs[0], value)\n",
      "D:\\anaconda\\lib\\site-packages\\tqdm\\std.py:697: FutureWarning: The Panel class is removed from pandas. Accessing it from the top-level namespace will also be removed in the next version\n",
      "  from pandas import Panel\n",
      "100%|█████████████████████████████████████████████████████████████████████████████████| 21/21 [00:00<00:00, 716.23it/s]\n"
     ]
    }
   ],
   "source": [
    "from tqdm import tqdm\n",
    "import pandas as pd\n",
    "import openpyxl\n",
    "from openpyxl import load_workbook\n",
    "from openpyxl.utils import get_column_letter \n",
    "\n",
    "KindFoodBooking = pd.read_excel(\"input/input.xlsx\",sheet_name=\"訂單明細\").fillna('')\n",
    "\n",
    "df = KindFoodBooking\n",
    "\n",
    "KindFoodBookingVIP = df.loc[KindFoodBooking['會員標籤'].str.contains('staff|KOL|經銷')]\n",
    "KindFoodBookingOrdinary = df.loc[KindFoodBooking['會員標籤'].str.contains('staff|KOL|經銷') == False]\n",
    "\n",
    "KindFoodBookingVIP.loc[:,'訂單編號'] = '#' + KindFoodBookingVIP.loc[:,'訂單編號']\n",
    "\n",
    "\n",
    "\n",
    "KindFoodBookingTidy = pd.concat([ KindFoodBookingOrdinary,KindFoodBookingVIP],axis='index')\n",
    "KindFoodBookingTidy = KindFoodBookingTidy.reindex(KindFoodBooking.index)\n",
    "KindFoodBookingTidy['收件人電話'] = KindFoodBookingTidy['收件人電話'].apply(str)\n",
    "KindFoodBookingTidy.loc[:,'收件人電話'] = '0' + KindFoodBookingTidy.loc[:,'收件人電話']\n",
    "\n",
    "\n",
    "KindFoodBookingHub = KindFoodBooking.groupby(['SKU']).agg({'數量':['sum']})\n",
    "KindFoodBookingHub.name = 'Hub'                            \n",
    "KindFoodBookingsum = KindFoodBookingHub.sum()\n",
    "\n",
    "KindFoodBookingsum.name = '總和'\n",
    "\n",
    "KindFoodBookingHub = KindFoodBookingHub.append(KindFoodBookingsum)\n",
    "\n",
    "with pd.ExcelWriter(\"output/KindFoodBookingTidy.xlsx\") as writer:\n",
    "  KindFoodBookingTidy.to_excel(writer,sheet_name=\"訂單明細\",index=None)\n",
    "  KindFoodBookingHub.to_excel(writer,sheet_name=\"樞紐分析\")\n",
    "tqdm.pandas()\n",
    "df.progress_apply(lambda x: x)\n",
    "reset_col(\"output/KindFoodBookingTidy.xlsx\")    "
   ]
  },
  {
   "cell_type": "code",
   "execution_count": 4,
   "metadata": {},
   "outputs": [
    {
     "name": "stderr",
     "output_type": "stream",
     "text": [
      "<ipython-input-4-5ed0fba345b5>:10: SettingWithCopyWarning: \n",
      "A value is trying to be set on a copy of a slice from a DataFrame.\n",
      "Try using .loc[row_indexer,col_indexer] = value instead\n",
      "\n",
      "See the caveats in the documentation: https://pandas.pydata.org/pandas-docs/stable/user_guide/indexing.html#returning-a-view-versus-a-copy\n",
      "  KindFoodBookingFamily['收件人電話'] = KindFoodBookingFamily['收件人電話'].apply(str)\n",
      "100%|██████████████████████████████████████████████████████████████████████████████████████████| 21/21 [00:00<?, ?it/s]\n"
     ]
    }
   ],
   "source": [
    "from tqdm import tqdm\n",
    "import pandas as pd\n",
    "import openpyxl\n",
    "from openpyxl import load_workbook\n",
    "from openpyxl.utils import get_column_letter \n",
    "\n",
    "KindFoodBooking = pd.read_excel(\"output/KindFoodBookingTidy.xlsx\",sheet_name=\"訂單明細\")\n",
    "df = KindFoodBooking\n",
    "KindFoodBookingFamily = df.loc[KindFoodBooking['出貨方式'].str.contains('全家')]\n",
    "KindFoodBookingFamily['收件人電話'] = KindFoodBookingFamily['收件人電話'].apply(str)\n",
    "KindFoodBookingFamily.loc[:,'收件人電話'] = '0' + KindFoodBookingFamily.loc[:,'收件人電話']\n",
    "\n",
    "KindFoodBookingFamily.to_excel(\"output/KindFoodBookingFamily.xlsx\",index=None)\n",
    "tqdm.pandas()\n",
    "df.progress_apply(lambda x: x)\n",
    "reset_col(\"output/KindFoodBookingFamily.xlsx\")"
   ]
  },
  {
   "cell_type": "code",
   "execution_count": 5,
   "metadata": {},
   "outputs": [
    {
     "name": "stderr",
     "output_type": "stream",
     "text": [
      "<ipython-input-5-52c740bf0f34>:12: SettingWithCopyWarning: \n",
      "A value is trying to be set on a copy of a slice from a DataFrame.\n",
      "Try using .loc[row_indexer,col_indexer] = value instead\n",
      "\n",
      "See the caveats in the documentation: https://pandas.pydata.org/pandas-docs/stable/user_guide/indexing.html#returning-a-view-versus-a-copy\n",
      "  KindFoodBookingTCat['收件人電話'] = KindFoodBookingTCat['收件人電話'].apply(str)\n",
      "100%|████████████████████████████████████████████████████████████████████████████████| 21/21 [00:00<00:00, 1101.64it/s]\n"
     ]
    }
   ],
   "source": [
    "from tqdm import tqdm\n",
    "import pandas as pd\n",
    "import openpyxl\n",
    "from openpyxl import load_workbook\n",
    "from openpyxl.utils import get_column_letter \n",
    "KindFoodBooking = pd.read_excel(\"output/KindFoodBookingTidy.xlsx\",sheet_name=\"訂單明細\")\n",
    "\n",
    "df = KindFoodBooking\n",
    "\n",
    "KindFoodBookingTCat = df.loc[KindFoodBooking['出貨方式'].str.contains('黑貓')]\n",
    "\n",
    "KindFoodBookingTCat['收件人電話'] = KindFoodBookingTCat['收件人電話'].apply(str)\n",
    "KindFoodBookingTCat.loc[:,'收件人電話'] = '0' + KindFoodBookingTCat.loc[:,'收件人電話']\n",
    "\n",
    "KindFoodBookingTCat.to_excel(\"output/KindFoodBookingTCat.xlsx\",index=None)\n",
    "tqdm.pandas()\n",
    "df.progress_apply(lambda x: x)\n",
    "reset_col(\"output/KindFoodBookingTCat.xlsx\")\n"
   ]
  },
  {
   "cell_type": "code",
   "execution_count": 6,
   "metadata": {},
   "outputs": [
    {
     "name": "stderr",
     "output_type": "stream",
     "text": [
      "D:\\anaconda\\lib\\site-packages\\tqdm\\std.py:697: FutureWarning: The Panel class is removed from pandas. Accessing it from the top-level namespace will also be removed in the next version\n",
      "  from pandas import Panel\n",
      "100%|████████████████████████████████████████████████████████████████████████████████| 28/28 [00:00<00:00, 1789.60it/s]\n"
     ]
    }
   ],
   "source": [
    "from tqdm import tqdm\n",
    "import pandas as pd\n",
    "import numpy as np\n",
    "import openpyxl\n",
    "from openpyxl import load_workbook\n",
    "from openpyxl.utils import get_column_letter \n",
    "\n",
    "KindFoodBookingTidy = pd.read_excel(\"output/KindFoodBookingTidy.xlsx\")\n",
    "KindFoodBookingBill = pd.read_excel(\"input/雲端發票開立.xlsx\",sheet_name=\"sheet1\")\n",
    "\n",
    "\n",
    "dfB = KindFoodBookingBill\n",
    "dfT = KindFoodBookingTidy\n",
    "\n",
    "dfnumTidy = dfT.loc[KindFoodBookingTidy['訂單編號'].str.contains('##') == False]\n",
    "dfnumTidy = dfnumTidy.drop_duplicates('訂單編號','first')\n",
    "\n",
    "dfnumTidy = dfnumTidy.reset_index(drop=True)\n",
    "\n",
    "\n",
    "dfnumTidy = dfnumTidy.rename(columns={'會員名稱':'買受人名稱'})\n",
    "dfnumTidy = dfnumTidy.rename(columns={'Email':'消費者編號'})\n",
    "dfnumTidy = dfnumTidy.rename(columns={'收件人電話':'客戶手機'})\n",
    "dfnumTidy = dfnumTidy.rename(columns={'總額':'小計'})\n",
    "\n",
    "dfB = dfB.rename(columns = {'買受人名稱':'刪除'})\n",
    "dfB = dfB.rename(columns = {'消費者編號':'刪除'})\n",
    "dfB = dfB.rename(columns = {'客戶手機':'刪除'})\n",
    "dfB = dfB.rename(columns = {'小計':'刪除'})\n",
    "\n",
    "dfB = dfB.drop(columns={'刪除'})\n",
    "\n",
    "dfB = dfB.merge(dfnumTidy[['訂單編號','買受人名稱','消費者編號','客戶手機','小計']],on = '訂單編號',how = 'outer')\n",
    "dfnumTidy = dfnumTidy.rename(columns={'消費者編號':'客戶信箱'})\n",
    "dfB = dfB.rename(columns = {'客戶信箱':'刪除'})\n",
    "dfB = dfB.drop(columns={'刪除'})\n",
    "dfB = dfB.merge(dfnumTidy[['訂單編號','客戶信箱']],on = '訂單編號',how = 'outer')\n",
    "dfB = dfB.reindex(columns = KindFoodBookingBill.columns)\n",
    "\n",
    "dfB['客戶手機'] = dfB['客戶手機'].apply(str)\n",
    "dfB.loc[:,'客戶手機'] = '0' + dfB.loc[:,'客戶手機']\n",
    "\n",
    "dfB.to_excel(\"output/KindFoodBooking雲端發票開立.xlsx\",index=None)\n",
    "tqdm.pandas()\n",
    "dfB.progress_apply(lambda x: x)\n",
    "reset_col(\"output/KindFoodBooking雲端發票開立.xlsx\")"
   ]
  },
  {
   "cell_type": "code",
   "execution_count": 7,
   "metadata": {},
   "outputs": [],
   "source": [
    "import pandas as pd\n",
    "import openpyxl\n",
    "from openpyxl import load_workbook\n",
    "\n",
    "\n",
    "\n",
    "workbook = load_workbook(\"output/KindFoodBooking雲端發票開立.xlsx\")\n",
    "sheet = workbook.active\n",
    "\n",
    "for i in range(2,sheet.max_row+1):\n",
    "  sheet[\"A\"+ format(i)] = \"3 \"\n",
    "  sheet[\"B\"+ format(i)] = \"0 \"\n",
    "  sheet[\"F\"+ format(i)] = \"1 \"\n",
    "  sheet[\"O\"+ format(i)] = \"1 \"\n",
    "  sheet[\"S\"+ format(i)] = \"1 \"\n",
    "  sheet[\"T\"+ format(i)] = \"生鮮食材組 \"\n",
    "  sheet[\"U\"+ format(i)] = \"1 \"\n",
    "  sheet[\"Y\"+ format(i)] = \"2 \"\n",
    "  sheet[\"Z\"+ format(i)] = \"1 \"\n",
    "  sheet[\"AA\"+ format(i)] = \"0 \"\n",
    "\n",
    "workbook.save(filename = \"output/KindFoodBooking雲端發票開立.xlsx\")"
   ]
  },
  {
   "cell_type": "code",
   "execution_count": 8,
   "metadata": {},
   "outputs": [
    {
     "name": "stderr",
     "output_type": "stream",
     "text": [
      "100%|████████████████████████████████████████████████████████████████████████████████| 21/21 [00:00<00:00, 1132.37it/s]\n"
     ]
    }
   ],
   "source": [
    "from tqdm import tqdm\n",
    "import pandas as pd\n",
    "import openpyxl\n",
    "from openpyxl import load_workbook\n",
    "from openpyxl.utils import get_column_letter \n",
    "\n",
    "KindFoodBookingTidy = pd.read_excel(\"output/KindFoodBookingTidy.xlsx\")\n",
    "KindFoodBookingStock = pd.read_excel(\"input/庫存項目.xlsx\",sheet_name=\"庫存表\")\n",
    "KindFoodBookingCompare = pd.read_excel(\"output/KindFoodBookingTidy.xlsx\",sheet_name=\"樞紐分析\")\n",
    "\n",
    "dfS = KindFoodBookingStock\n",
    "dfC = KindFoodBookingCompare\n",
    "\n",
    "dfC = dfC.rename(columns={'Unnamed: 0' : '商品編號'})\n",
    "dfS = dfS.rename(columns={'庫存料號':'商品編號'})\n",
    "\n",
    "dfC = dfC.merge(dfS[['商品編號','庫存數量(僅參考)']],on ='商品編號',how = 'outer')\n",
    "\n",
    "sumindex = dfC[dfC['商品編號']=='總和'].index.values.astype(int)[0]\n",
    "\n",
    "for i in range(sumindex+1,len(dfC.index)):\n",
    "  dfC = dfC.drop(index=i)\n",
    "\n",
    "with pd.ExcelWriter(\"output/KindFoodBookingTidy.xlsx\") as writer:\n",
    "  KindFoodBookingTidy.to_excel(writer,sheet_name=\"訂單明細\",index=None)\n",
    "  dfC.to_excel(writer,sheet_name=\"樞紐分析\",index=None)\n",
    "\n",
    "tqdm.pandas()\n",
    "df.progress_apply(lambda x: x)\n",
    "reset_col(\"output/KindFoodBookingTidy.xlsx\")"
   ]
  },
  {
   "cell_type": "code",
   "execution_count": null,
   "metadata": {},
   "outputs": [],
   "source": []
  }
 ],
 "metadata": {
  "kernelspec": {
   "display_name": "Python 3",
   "language": "python",
   "name": "python3"
  },
  "language_info": {
   "codemirror_mode": {
    "name": "ipython",
    "version": 3
   },
   "file_extension": ".py",
   "mimetype": "text/x-python",
   "name": "python",
   "nbconvert_exporter": "python",
   "pygments_lexer": "ipython3",
   "version": "3.8.5"
  }
 },
 "nbformat": 4,
 "nbformat_minor": 4
}
