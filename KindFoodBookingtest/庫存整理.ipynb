{
 "cells": [
  {
   "cell_type": "code",
   "execution_count": 14,
   "metadata": {},
   "outputs": [
    {
     "name": "stdout",
     "output_type": "stream",
     "text": [
      "使用前請先詳閱Readme文件中的使用步驟......\n",
      "\n",
      "請耐心等候，程式運行完後會自動關閉，於output資料夾匯出所需檔案......\n"
     ]
    }
   ],
   "source": [
    "print('使用前請先詳閱Readme文件中的使用步驟......')\n",
    "print()\n",
    "print('請耐心等候，程式運行完後會自動關閉，於output資料夾匯出所需檔案......')"
   ]
  },
  {
   "cell_type": "code",
   "execution_count": 15,
   "metadata": {},
   "outputs": [],
   "source": [
    "from openpyxl import load_workbook\n",
    "from openpyxl.utils import get_column_letter \n",
    "def reset_col(filename):\n",
    "\twb=load_workbook(filename)\n",
    "\tfor sheet in wb.sheetnames:\n",
    "\t\tws=wb[sheet]\n",
    "\t\tdf=pd.read_excel(filename,sheet).fillna('-')\n",
    "\t\tdf.loc[len(df)]=list(df.columns)\t\t\t\t\t\t#把標题行附加到最后一行\n",
    "\t\tfor col in df.columns:\t\t\t\t\n",
    "\t\t\tindex=list(df.columns).index(col)\t\t\t\t\t#列序號\n",
    "\t\t\tletter=get_column_letter(index+1)\t\t\t\t\t#列字母\n",
    "\t\t\tcollen=df[col].apply(lambda x:len(str(x).encode())).max()\t#獲取這一列長度的最大值\n",
    "\t\t\tws.column_dimensions[letter].width=collen*0.45+10\n",
    "\n",
    "\twb.save(filename)"
   ]
  },
  {
   "cell_type": "code",
   "execution_count": 16,
   "metadata": {},
   "outputs": [
    {
     "name": "stderr",
     "output_type": "stream",
     "text": [
      "100%|████████████████████████████████████████████████████████████████████████████████| 15/15 [00:00<00:00, 5027.13it/s]\n"
     ]
    }
   ],
   "source": [
    "from tqdm import tqdm\n",
    "import pandas as pd\n",
    "import openpyxl\n",
    "from openpyxl import load_workbook\n",
    "from openpyxl.utils import get_column_letter \n",
    "\n",
    "KindFoodBookingNewStock = pd.read_excel(\"input/庫存項目.xlsx\",sheet_name=\"庫存表\")\n",
    "KindFoodBookingOldStock = pd.read_excel(\"input/安全庫存.xlsx\")\n",
    "\n",
    "dfnew = KindFoodBookingNewStock\n",
    "dfold = KindFoodBookingOldStock\n",
    "\n",
    "\n",
    "dfnew = dfnew.rename(columns={'庫存料號':'商品編號'})\n",
    "\n",
    "\n",
    "dfold = dfold.merge(dfnew[['商品編號','庫存數量(僅參考)']],on ='商品編號',how = 'outer')\n",
    "for i in range(40,len(dfold.index)):\n",
    "  dfold = dfold.drop(index=i)\n",
    "\n",
    "dfold = dfold.rename(columns={'愛上新鮮庫存':'刪掉'})\n",
    "dfold = dfold.rename(columns={'庫存數量(僅參考)':'愛上新鮮庫存'})\n",
    "\n",
    "dfold = dfold.drop(columns={'刪掉'})\n",
    "dfold = dfold.reindex(columns = KindFoodBookingOldStock.columns)\n",
    "dfold.to_excel(\"output/KindFoodBooking安全庫存.xlsx\",index=None)\n",
    "\n",
    "tqdm.pandas()\n",
    "dfold.progress_apply(lambda x: x)\n",
    "reset_col(\"output/KindFoodBooking安全庫存.xlsx\")\n"
   ]
  },
  {
   "cell_type": "code",
   "execution_count": 19,
   "metadata": {},
   "outputs": [],
   "source": [
    "import pandas as pd\n",
    "import openpyxl\n",
    "from openpyxl import load_workbook\n",
    "\n",
    "\n",
    "\n",
    "workbook = load_workbook(\"output/KindFoodBooking安全庫存.xlsx\")\n",
    "sheet = workbook.active\n",
    "\n",
    "sheet[\"C2\"] = \"= M2 \"\n",
    "for i in range(2,11):\n",
    "  sheet[\"C\"+ format(i)] = \"= ROUND(M\"+ format(i) + \",0)\"\n",
    "for i in range(18,24):\n",
    "  sheet[\"C\"+ format(i)] = \"= ROUND(M\"+ format(i) + \",0)\"\n",
    "for i in range(12,18):\n",
    "  sheet[\"C\"+ format(i)] = \"= ROUND((M\"+ format(i) + \")\" + \"/30*14\" + \",0)\"\n",
    "for i in range(24,36):\n",
    "  sheet[\"C\"+ format(i)] = \"= ROUND((M\"+ format(i) + \")\" + \"/30*14\" + \",0)\"\n",
    "sheet[\"C36\"] = \"= ROUND(M36\" + \",0)\"\n",
    "sheet[\"C37\"] = \"=ROUND((M37/30)*14\" + \",0)\"\n",
    "\n",
    "for i in range(38,41):\n",
    "  sheet[\"C\"+ format(i)] = \"= ROUND(M\"+ format(i) + \",0)\"\n",
    "\n",
    "for i in range(2,41):\n",
    "  sheet[\"D\"+ format(i)] = \"= ROUND((G\"+ format(i) + \")\" + \"/(M\" + format(i)+\"/30),0)\"\n",
    "\n",
    "for i in range(2,41):\n",
    "  sheet[\"E\"+ format(i)] = \"= ROUND((G\"+ format(i) + \"+\" +  \"H\"+ format(i) + \"+\" + \"I\"+ format(i) + \")\" + \"/(M\" + format(i)+\"/30),0)\"\n",
    "\n",
    "for i in range(2,41):\n",
    "  sheet[\"F\"+ format(i)] = \"= ROUND(IF(I\"+ format(i) + \">0,0,IF(C\" + format(i) + \">G\" + format(i) + \"+H\" + format(i) + \",C\" + format(i) + \"*1.3,0)),0)\"\n",
    "\n",
    "sheet.freeze_panes = 'C1'\n",
    "sheet.freeze_panes = 'C2'\n",
    "\n",
    "workbook.save(filename = \"output/KindFoodBooking安全庫存.xlsx\")"
   ]
  },
  {
   "cell_type": "code",
   "execution_count": null,
   "metadata": {},
   "outputs": [],
   "source": []
  }
 ],
 "metadata": {
  "kernelspec": {
   "display_name": "Python 3",
   "language": "python",
   "name": "python3"
  },
  "language_info": {
   "codemirror_mode": {
    "name": "ipython",
    "version": 3
   },
   "file_extension": ".py",
   "mimetype": "text/x-python",
   "name": "python",
   "nbconvert_exporter": "python",
   "pygments_lexer": "ipython3",
   "version": "3.8.5"
  }
 },
 "nbformat": 4,
 "nbformat_minor": 4
}
